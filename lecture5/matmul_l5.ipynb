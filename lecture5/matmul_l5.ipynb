{
 "cells": [
  {
   "cell_type": "markdown",
   "id": "8b2afc6a",
   "metadata": {
    "papermill": {
     "duration": 0.021544,
     "end_time": "2024-02-11T21:36:03.448201",
     "exception": false,
     "start_time": "2024-02-11T21:36:03.426657",
     "status": "completed"
    },
    "tags": []
   },
   "source": [
    "## Setup"
   ]
  },
  {
   "cell_type": "code",
   "execution_count": 1,
   "id": "3f86e23d",
   "metadata": {
    "execution": {
     "iopub.execute_input": "2024-02-11T21:36:03.491570Z",
     "iopub.status.busy": "2024-02-11T21:36:03.490959Z",
     "iopub.status.idle": "2024-02-11T21:36:17.087433Z",
     "shell.execute_reply": "2024-02-11T21:36:17.086422Z"
    },
    "papermill": {
     "duration": 13.621052,
     "end_time": "2024-02-11T21:36:17.089781",
     "exception": false,
     "start_time": "2024-02-11T21:36:03.468729",
     "status": "completed"
    },
    "tags": []
   },
   "outputs": [
    {
     "name": "stdout",
     "output_type": "stream",
     "text": [
      "Requirement already satisfied: ninja in /opt/conda/lib/python3.10/site-packages (1.11.1.1)\r\n"
     ]
    }
   ],
   "source": [
    "!pip install ninja"
   ]
  },
  {
   "cell_type": "code",
   "execution_count": 2,
   "id": "5244268b",
   "metadata": {
    "execution": {
     "iopub.execute_input": "2024-02-11T21:36:17.133344Z",
     "iopub.status.busy": "2024-02-11T21:36:17.132997Z",
     "iopub.status.idle": "2024-02-11T21:36:21.307927Z",
     "shell.execute_reply": "2024-02-11T21:36:21.307144Z"
    },
    "papermill": {
     "duration": 4.199184,
     "end_time": "2024-02-11T21:36:21.310304",
     "exception": false,
     "start_time": "2024-02-11T21:36:17.111120",
     "status": "completed"
    },
    "tags": []
   },
   "outputs": [],
   "source": [
    "import os,math,sys,torch,re,numpy as np\n",
    "from types import SimpleNamespace as ns\n",
    "from collections import namedtuple"
   ]
  },
  {
   "cell_type": "code",
   "execution_count": 3,
   "id": "f10dcd1f",
   "metadata": {
    "execution": {
     "iopub.execute_input": "2024-02-11T21:36:21.353820Z",
     "iopub.status.busy": "2024-02-11T21:36:21.353437Z",
     "iopub.status.idle": "2024-02-11T21:36:22.548851Z",
     "shell.execute_reply": "2024-02-11T21:36:22.547969Z"
    },
    "papermill": {
     "duration": 1.219792,
     "end_time": "2024-02-11T21:36:22.551302",
     "exception": false,
     "start_time": "2024-02-11T21:36:21.331510",
     "status": "completed"
    },
    "tags": []
   },
   "outputs": [],
   "source": [
    "import torch\n",
    "import matplotlib.pyplot as plt\n",
    "from torch.utils.cpp_extension import load_inline\n",
    "\n",
    "def show_img(x, figsize=(4,3), **kwargs):\n",
    "    \"Display HW or CHW format image `x`\"\n",
    "    plt.figure(figsize=figsize)\n",
    "    plt.axis('off')\n",
    "    if len(x.shape)==3: x = x.permute(1,2,0)  # CHW -> HWC\n",
    "    plt.imshow(x.cpu(), **kwargs)\n",
    "\n",
    "cuda_begin = r'''\n",
    "#include <torch/extension.h>\n",
    "#include <stdio.h>\n",
    "#include <c10/cuda/CUDAException.h>\n",
    "\n",
    "#define CHECK_CUDA(x) TORCH_CHECK(x.device().is_cuda(), #x \" must be a CUDA tensor\")\n",
    "#define CHECK_CONTIGUOUS(x) TORCH_CHECK(x.is_contiguous(), #x \" must be contiguous\")\n",
    "#define CHECK_INPUT(x) CHECK_CUDA(x); CHECK_CONTIGUOUS(x)\n",
    "#define CUDA_ERR(ans) { gpuAssert((ans), __FILE__, __LINE__); }\n",
    "inline void gpuAssert(cudaError_t code, const char *file, int line, bool abort=true)\n",
    "{\n",
    "   if (code != cudaSuccess) \n",
    "   {\n",
    "      fprintf(stderr,\"GPUassert: %s %s %d\\n\", cudaGetErrorString(code), file, line);\n",
    "      if (abort) exit(code);\n",
    "   }\n",
    "}\n",
    "__host__ __device__ inline unsigned int cdiv(unsigned int a, unsigned int b) { return (a+b-1)/b;}\n",
    "'''\n",
    "\n",
    "def load_cuda(cuda_src, cpp_src, funcs, opt=False, verbose=False, name=None):\n",
    "    \"Simple wrapper for torch.utils.cpp_extension.load_inline\"\n",
    "    if name is None: name = funcs[0]\n",
    "    return load_inline(cuda_sources=[cuda_src], cpp_sources=[cpp_src], functions=funcs,\n",
    "                       extra_cuda_cflags=[\"-O2\"] if opt else [], verbose=verbose, name=name)\n",
    "\n",
    "def cdiv(a,b):\n",
    "    \"Int ceiling division of `a` over `b`\"\n",
    "    return (a+b-1)//b\n"
   ]
  },
  {
   "cell_type": "code",
   "execution_count": 4,
   "id": "8cf986ee",
   "metadata": {
    "execution": {
     "iopub.execute_input": "2024-02-11T21:36:22.597019Z",
     "iopub.status.busy": "2024-02-11T21:36:22.596719Z",
     "iopub.status.idle": "2024-02-11T21:36:22.600977Z",
     "shell.execute_reply": "2024-02-11T21:36:22.600116Z"
    },
    "papermill": {
     "duration": 0.02809,
     "end_time": "2024-02-11T21:36:22.602891",
     "exception": false,
     "start_time": "2024-02-11T21:36:22.574801",
     "status": "completed"
    },
    "tags": []
   },
   "outputs": [],
   "source": [
    "dim3 = namedtuple('dim3', ['x','y','z'], defaults=(1,1))"
   ]
  },
  {
   "cell_type": "code",
   "execution_count": 5,
   "id": "012ebbb7",
   "metadata": {
    "execution": {
     "iopub.execute_input": "2024-02-11T21:36:22.645077Z",
     "iopub.status.busy": "2024-02-11T21:36:22.644793Z",
     "iopub.status.idle": "2024-02-11T21:36:22.650897Z",
     "shell.execute_reply": "2024-02-11T21:36:22.650054Z"
    },
    "papermill": {
     "duration": 0.029363,
     "end_time": "2024-02-11T21:36:22.652860",
     "exception": false,
     "start_time": "2024-02-11T21:36:22.623497",
     "status": "completed"
    },
    "tags": []
   },
   "outputs": [
    {
     "data": {
      "text/plain": [
       "dim3(x=2, y=3, z=1)"
      ]
     },
     "execution_count": 5,
     "metadata": {},
     "output_type": "execute_result"
    }
   ],
   "source": [
    "d = dim3(2,3)\n",
    "d"
   ]
  },
  {
   "cell_type": "code",
   "execution_count": 6,
   "id": "97f977d9",
   "metadata": {
    "execution": {
     "iopub.execute_input": "2024-02-11T21:36:22.696634Z",
     "iopub.status.busy": "2024-02-11T21:36:22.696005Z",
     "iopub.status.idle": "2024-02-11T21:36:22.701263Z",
     "shell.execute_reply": "2024-02-11T21:36:22.700457Z"
    },
    "papermill": {
     "duration": 0.029246,
     "end_time": "2024-02-11T21:36:22.703072",
     "exception": false,
     "start_time": "2024-02-11T21:36:22.673826",
     "status": "completed"
    },
    "tags": []
   },
   "outputs": [
    {
     "data": {
      "text/plain": [
       "(2, 3)"
      ]
     },
     "execution_count": 6,
     "metadata": {},
     "output_type": "execute_result"
    }
   ],
   "source": [
    "d.x,d.y"
   ]
  },
  {
   "cell_type": "code",
   "execution_count": 7,
   "id": "dacf91ec",
   "metadata": {
    "execution": {
     "iopub.execute_input": "2024-02-11T21:36:22.745976Z",
     "iopub.status.busy": "2024-02-11T21:36:22.745704Z",
     "iopub.status.idle": "2024-02-11T21:36:22.749834Z",
     "shell.execute_reply": "2024-02-11T21:36:22.749019Z"
    },
    "papermill": {
     "duration": 0.027831,
     "end_time": "2024-02-11T21:36:22.751832",
     "exception": false,
     "start_time": "2024-02-11T21:36:22.724001",
     "status": "completed"
    },
    "tags": []
   },
   "outputs": [],
   "source": [
    "np.set_printoptions(precision=2, linewidth=140)\n",
    "torch.set_printoptions(precision=2, linewidth=140, sci_mode=False)"
   ]
  },
  {
   "cell_type": "code",
   "execution_count": 8,
   "id": "ab43f397",
   "metadata": {
    "execution": {
     "iopub.execute_input": "2024-02-11T21:36:22.794557Z",
     "iopub.status.busy": "2024-02-11T21:36:22.794280Z",
     "iopub.status.idle": "2024-02-11T21:36:22.798141Z",
     "shell.execute_reply": "2024-02-11T21:36:22.797287Z"
    },
    "papermill": {
     "duration": 0.027443,
     "end_time": "2024-02-11T21:36:22.800182",
     "exception": false,
     "start_time": "2024-02-11T21:36:22.772739",
     "status": "completed"
    },
    "tags": []
   },
   "outputs": [],
   "source": [
    "sys.path.insert(0, '..')"
   ]
  },
  {
   "cell_type": "code",
   "execution_count": 9,
   "id": "c6828f91",
   "metadata": {
    "execution": {
     "iopub.execute_input": "2024-02-11T21:36:22.843042Z",
     "iopub.status.busy": "2024-02-11T21:36:22.842781Z",
     "iopub.status.idle": "2024-02-11T21:36:22.849692Z",
     "shell.execute_reply": "2024-02-11T21:36:22.848865Z"
    },
    "papermill": {
     "duration": 0.030866,
     "end_time": "2024-02-11T21:36:22.851685",
     "exception": false,
     "start_time": "2024-02-11T21:36:22.820819",
     "status": "completed"
    },
    "tags": []
   },
   "outputs": [],
   "source": [
    "%load_ext wurlitzer"
   ]
  },
  {
   "cell_type": "code",
   "execution_count": 10,
   "id": "4cfa9019",
   "metadata": {
    "execution": {
     "iopub.execute_input": "2024-02-11T21:36:22.894524Z",
     "iopub.status.busy": "2024-02-11T21:36:22.894246Z",
     "iopub.status.idle": "2024-02-11T21:36:22.903240Z",
     "shell.execute_reply": "2024-02-11T21:36:22.902456Z"
    },
    "papermill": {
     "duration": 0.032594,
     "end_time": "2024-02-11T21:36:22.905181",
     "exception": false,
     "start_time": "2024-02-11T21:36:22.872587",
     "status": "completed"
    },
    "tags": []
   },
   "outputs": [],
   "source": [
    "# os.environ['CUDA_LAUNCH_BLOCKING']='1'\n",
    "torch.manual_seed(42);"
   ]
  },
  {
   "cell_type": "code",
   "execution_count": 11,
   "id": "6ca70d83",
   "metadata": {
    "execution": {
     "iopub.execute_input": "2024-02-11T21:36:22.988876Z",
     "iopub.status.busy": "2024-02-11T21:36:22.988157Z",
     "iopub.status.idle": "2024-02-11T21:36:23.052694Z",
     "shell.execute_reply": "2024-02-11T21:36:23.051962Z"
    },
    "papermill": {
     "duration": 0.127136,
     "end_time": "2024-02-11T21:36:23.054825",
     "exception": false,
     "start_time": "2024-02-11T21:36:22.927689",
     "status": "completed"
    },
    "tags": []
   },
   "outputs": [],
   "source": [
    "m1 = torch.rand(5120, 256)\n",
    "m1s = m1[:4]\n",
    "m2 = torch.rand(256,5120)\n",
    "m2s = m2[:,:4]"
   ]
  },
  {
   "cell_type": "markdown",
   "id": "78b5f582",
   "metadata": {
    "papermill": {
     "duration": 0.021245,
     "end_time": "2024-02-11T21:36:23.097125",
     "exception": false,
     "start_time": "2024-02-11T21:36:23.075880",
     "status": "completed"
    },
    "tags": []
   },
   "source": [
    "## Reminder"
   ]
  },
  {
   "cell_type": "markdown",
   "id": "f6d57780",
   "metadata": {
    "papermill": {
     "duration": 0.021482,
     "end_time": "2024-02-11T21:36:23.140058",
     "exception": false,
     "start_time": "2024-02-11T21:36:23.118576",
     "status": "completed"
    },
    "tags": []
   },
   "source": [
    "### 2d Python kernel"
   ]
  },
  {
   "cell_type": "code",
   "execution_count": 12,
   "id": "31d3f96a",
   "metadata": {
    "execution": {
     "iopub.execute_input": "2024-02-11T21:36:23.183486Z",
     "iopub.status.busy": "2024-02-11T21:36:23.183189Z",
     "iopub.status.idle": "2024-02-11T21:36:23.190952Z",
     "shell.execute_reply": "2024-02-11T21:36:23.190273Z"
    },
    "papermill": {
     "duration": 0.031464,
     "end_time": "2024-02-11T21:36:23.192848",
     "exception": false,
     "start_time": "2024-02-11T21:36:23.161384",
     "status": "completed"
    },
    "tags": []
   },
   "outputs": [],
   "source": [
    "def blk_kernel2d(f, blocks, threads, *args):\n",
    "    for i0 in range(blocks.y):\n",
    "        for i1 in range(blocks.x):\n",
    "            for j0 in range(threads.y):\n",
    "                for j1 in range(threads.x): f(dim3(i1,i0), dim3(j1,j0), threads, *args)"
   ]
  },
  {
   "cell_type": "code",
   "execution_count": 13,
   "id": "37d301ac",
   "metadata": {
    "execution": {
     "iopub.execute_input": "2024-02-11T21:36:23.237223Z",
     "iopub.status.busy": "2024-02-11T21:36:23.236930Z",
     "iopub.status.idle": "2024-02-11T21:36:23.245205Z",
     "shell.execute_reply": "2024-02-11T21:36:23.244346Z"
    },
    "papermill": {
     "duration": 0.033457,
     "end_time": "2024-02-11T21:36:23.247464",
     "exception": false,
     "start_time": "2024-02-11T21:36:23.214007",
     "status": "completed"
    },
    "tags": []
   },
   "outputs": [],
   "source": [
    "def matmul_bk(blockIdx, threadIdx, blockDim, m, n, out, h, w, k):\n",
    "    r = blockIdx.y*blockDim.y + threadIdx.y\n",
    "    c = blockIdx.x*blockDim.x + threadIdx.x\n",
    "    \n",
    "    if (r>=h or c>=w): return\n",
    "    o = 0.\n",
    "    for i in range(k): o += m[r*k+i] * n[i*w+c]\n",
    "    out[r*w+c] = o"
   ]
  },
  {
   "cell_type": "code",
   "execution_count": 14,
   "id": "5f67605e",
   "metadata": {
    "execution": {
     "iopub.execute_input": "2024-02-11T21:36:23.296312Z",
     "iopub.status.busy": "2024-02-11T21:36:23.296029Z",
     "iopub.status.idle": "2024-02-11T21:36:23.304713Z",
     "shell.execute_reply": "2024-02-11T21:36:23.303935Z"
    },
    "papermill": {
     "duration": 0.035363,
     "end_time": "2024-02-11T21:36:23.306774",
     "exception": false,
     "start_time": "2024-02-11T21:36:23.271411",
     "status": "completed"
    },
    "tags": []
   },
   "outputs": [],
   "source": [
    "def matmul_2d(m, n):\n",
    "    h,k  = m.shape\n",
    "    k2,w = n.shape\n",
    "    assert k==k2, \"Size mismatch!\"\n",
    "    output = torch.zeros(h, w, dtype=m.dtype)\n",
    "    tpb = dim3(16,16)\n",
    "    blocks = dim3(cdiv(w,tpb.x), cdiv(h,tpb.y))\n",
    "    blk_kernel2d(matmul_bk, blocks, tpb,\n",
    "                 m.flatten(), n.flatten(), output.flatten(), h, w, k)\n",
    "    return output"
   ]
  },
  {
   "cell_type": "code",
   "execution_count": 15,
   "id": "546290e8",
   "metadata": {
    "execution": {
     "iopub.execute_input": "2024-02-11T21:36:23.357306Z",
     "iopub.status.busy": "2024-02-11T21:36:23.356943Z",
     "iopub.status.idle": "2024-02-11T21:36:23.547397Z",
     "shell.execute_reply": "2024-02-11T21:36:23.546574Z"
    },
    "papermill": {
     "duration": 0.218526,
     "end_time": "2024-02-11T21:36:23.549689",
     "exception": false,
     "start_time": "2024-02-11T21:36:23.331163",
     "status": "completed"
    },
    "tags": []
   },
   "outputs": [
    {
     "data": {
      "text/plain": [
       "tensor(True)"
      ]
     },
     "execution_count": 15,
     "metadata": {},
     "output_type": "execute_result"
    }
   ],
   "source": [
    "torch.isclose(matmul_2d(m1s, m2s), m1s@m2s).all()"
   ]
  },
  {
   "cell_type": "markdown",
   "id": "4889b725",
   "metadata": {
    "papermill": {
     "duration": 0.023141,
     "end_time": "2024-02-11T21:36:23.596854",
     "exception": false,
     "start_time": "2024-02-11T21:36:23.573713",
     "status": "completed"
    },
    "tags": []
   },
   "source": [
    "### CUDA"
   ]
  },
  {
   "cell_type": "code",
   "execution_count": 16,
   "id": "a660ec7e",
   "metadata": {
    "execution": {
     "iopub.execute_input": "2024-02-11T21:36:23.645286Z",
     "iopub.status.busy": "2024-02-11T21:36:23.644972Z",
     "iopub.status.idle": "2024-02-11T21:36:23.653185Z",
     "shell.execute_reply": "2024-02-11T21:36:23.652396Z"
    },
    "papermill": {
     "duration": 0.035104,
     "end_time": "2024-02-11T21:36:23.655311",
     "exception": false,
     "start_time": "2024-02-11T21:36:23.620207",
     "status": "completed"
    },
    "tags": []
   },
   "outputs": [],
   "source": [
    "cuda_src = cuda_begin + r'''\n",
    "__global__ void matmul_k(float* m, float* n, float* out, int h, int w, int k) {\n",
    "    int r = blockIdx.y*blockDim.y + threadIdx.y;\n",
    "    int c = blockIdx.x*blockDim.x + threadIdx.x;\n",
    "\n",
    "    if (r>=h || c>=w) return;\n",
    "    float o = 0;\n",
    "    for (int i = 0; i<k; ++i) o += m[r*k+i] * n[i*w+c];\n",
    "    out[r*w+c] = o;\n",
    "}\n",
    "\n",
    "torch::Tensor matmul(torch::Tensor m, torch::Tensor n) {\n",
    "    CHECK_INPUT(m); CHECK_INPUT(n);\n",
    "    int h = m.size(0);\n",
    "    int w = n.size(1);\n",
    "    int k = m.size(1);\n",
    "    TORCH_CHECK(k==n.size(0), \"Size mismatch!\");\n",
    "    auto output = torch::zeros({h, w}, m.options());\n",
    "\n",
    "    dim3 tpb(16,16);\n",
    "    dim3 blocks(cdiv(w, tpb.x), cdiv(h, tpb.y));\n",
    "    matmul_k<<<blocks, tpb>>>(\n",
    "        m.data_ptr<float>(), n.data_ptr<float>(), output.data_ptr<float>(), h, w, k);\n",
    "    C10_CUDA_KERNEL_LAUNCH_CHECK();\n",
    "    return output;\n",
    "}\n",
    "'''"
   ]
  },
  {
   "cell_type": "code",
   "execution_count": 17,
   "id": "fbba6a93",
   "metadata": {
    "execution": {
     "iopub.execute_input": "2024-02-11T21:36:23.701819Z",
     "iopub.status.busy": "2024-02-11T21:36:23.701544Z",
     "iopub.status.idle": "2024-02-11T21:36:23.708073Z",
     "shell.execute_reply": "2024-02-11T21:36:23.707387Z"
    },
    "papermill": {
     "duration": 0.031709,
     "end_time": "2024-02-11T21:36:23.710039",
     "exception": false,
     "start_time": "2024-02-11T21:36:23.678330",
     "status": "completed"
    },
    "tags": []
   },
   "outputs": [],
   "source": [
    "fname = 'matmul'"
   ]
  },
  {
   "cell_type": "code",
   "execution_count": 18,
   "id": "3c442c70",
   "metadata": {
    "execution": {
     "iopub.execute_input": "2024-02-11T21:36:23.753989Z",
     "iopub.status.busy": "2024-02-11T21:36:23.753733Z",
     "iopub.status.idle": "2024-02-11T21:36:23.760457Z",
     "shell.execute_reply": "2024-02-11T21:36:23.759807Z"
    },
    "papermill": {
     "duration": 0.030722,
     "end_time": "2024-02-11T21:36:23.762325",
     "exception": false,
     "start_time": "2024-02-11T21:36:23.731603",
     "status": "completed"
    },
    "tags": []
   },
   "outputs": [],
   "source": [
    "def get_sig(fname, src):\n",
    "    res = re.findall(rf'^(.+\\s+{fname}\\(.*?\\))\\s*{{?\\s*$', src, re.MULTILINE)\n",
    "    return res[0]+';' if res else None"
   ]
  },
  {
   "cell_type": "code",
   "execution_count": 19,
   "id": "0cc18a2d",
   "metadata": {
    "execution": {
     "iopub.execute_input": "2024-02-11T21:36:23.805402Z",
     "iopub.status.busy": "2024-02-11T21:36:23.805144Z",
     "iopub.status.idle": "2024-02-11T21:36:23.813181Z",
     "shell.execute_reply": "2024-02-11T21:36:23.812478Z"
    },
    "papermill": {
     "duration": 0.031731,
     "end_time": "2024-02-11T21:36:23.815093",
     "exception": false,
     "start_time": "2024-02-11T21:36:23.783362",
     "status": "completed"
    },
    "tags": []
   },
   "outputs": [
    {
     "data": {
      "text/plain": [
       "'torch::Tensor matmul(torch::Tensor m, torch::Tensor n);'"
      ]
     },
     "execution_count": 19,
     "metadata": {},
     "output_type": "execute_result"
    }
   ],
   "source": [
    "cpp_src = get_sig(fname, cuda_src)\n",
    "cpp_src"
   ]
  },
  {
   "cell_type": "code",
   "execution_count": 20,
   "id": "02bb1a52",
   "metadata": {
    "execution": {
     "iopub.execute_input": "2024-02-11T21:36:23.858954Z",
     "iopub.status.busy": "2024-02-11T21:36:23.858298Z",
     "iopub.status.idle": "2024-02-11T21:37:31.001579Z",
     "shell.execute_reply": "2024-02-11T21:37:31.000734Z"
    },
    "papermill": {
     "duration": 67.167847,
     "end_time": "2024-02-11T21:37:31.003899",
     "exception": false,
     "start_time": "2024-02-11T21:36:23.836052",
     "status": "completed"
    },
    "tags": []
   },
   "outputs": [],
   "source": [
    "module = load_cuda(cuda_src, cpp_src, [fname])"
   ]
  },
  {
   "cell_type": "code",
   "execution_count": 21,
   "id": "ad6b2392",
   "metadata": {
    "execution": {
     "iopub.execute_input": "2024-02-11T21:37:31.047923Z",
     "iopub.status.busy": "2024-02-11T21:37:31.047635Z",
     "iopub.status.idle": "2024-02-11T21:37:31.204216Z",
     "shell.execute_reply": "2024-02-11T21:37:31.203463Z"
    },
    "papermill": {
     "duration": 0.180748,
     "end_time": "2024-02-11T21:37:31.206484",
     "exception": false,
     "start_time": "2024-02-11T21:37:31.025736",
     "status": "completed"
    },
    "tags": []
   },
   "outputs": [],
   "source": [
    "m1c,m2c = m1.contiguous().cuda(),m2.contiguous().cuda()"
   ]
  },
  {
   "cell_type": "code",
   "execution_count": 22,
   "id": "9e39c29b",
   "metadata": {
    "execution": {
     "iopub.execute_input": "2024-02-11T21:37:31.250535Z",
     "iopub.status.busy": "2024-02-11T21:37:31.250201Z",
     "iopub.status.idle": "2024-02-11T21:37:31.278159Z",
     "shell.execute_reply": "2024-02-11T21:37:31.277469Z"
    },
    "papermill": {
     "duration": 0.052143,
     "end_time": "2024-02-11T21:37:31.280116",
     "exception": false,
     "start_time": "2024-02-11T21:37:31.227973",
     "status": "completed"
    },
    "tags": []
   },
   "outputs": [
    {
     "data": {
      "text/plain": [
       "torch.Size([5120, 5120])"
      ]
     },
     "execution_count": 22,
     "metadata": {},
     "output_type": "execute_result"
    }
   ],
   "source": [
    "module.matmul(m1c,m2c).shape"
   ]
  },
  {
   "cell_type": "code",
   "execution_count": 23,
   "id": "452eb4de",
   "metadata": {
    "execution": {
     "iopub.execute_input": "2024-02-11T21:37:31.324756Z",
     "iopub.status.busy": "2024-02-11T21:37:31.324493Z",
     "iopub.status.idle": "2024-02-11T21:37:31.602613Z",
     "shell.execute_reply": "2024-02-11T21:37:31.601800Z"
    },
    "papermill": {
     "duration": 0.302656,
     "end_time": "2024-02-11T21:37:31.604618",
     "exception": false,
     "start_time": "2024-02-11T21:37:31.301962",
     "status": "completed"
    },
    "tags": []
   },
   "outputs": [
    {
     "data": {
      "text/plain": [
       "tensor(True, device='cuda:0')"
      ]
     },
     "execution_count": 23,
     "metadata": {},
     "output_type": "execute_result"
    }
   ],
   "source": [
    "torch.isclose(module.matmul(m1c,m2c), m1c@m2c).all()"
   ]
  },
  {
   "cell_type": "code",
   "execution_count": 24,
   "id": "ffa31e18",
   "metadata": {
    "execution": {
     "iopub.execute_input": "2024-02-11T21:37:31.649990Z",
     "iopub.status.busy": "2024-02-11T21:37:31.649684Z",
     "iopub.status.idle": "2024-02-11T21:37:33.677844Z",
     "shell.execute_reply": "2024-02-11T21:37:33.676854Z"
    },
    "papermill": {
     "duration": 2.053913,
     "end_time": "2024-02-11T21:37:33.680392",
     "exception": false,
     "start_time": "2024-02-11T21:37:31.626479",
     "status": "completed"
    },
    "tags": []
   },
   "outputs": [
    {
     "name": "stdout",
     "output_type": "stream",
     "text": [
      "28.8 ms ± 3.3 ms per loop (mean ± std. dev. of 7 runs, 10 loops each)\n"
     ]
    }
   ],
   "source": [
    "%%timeit -n 10\n",
    "module.matmul(m1c,m2c)\n",
    "torch.cuda.synchronize()"
   ]
  },
  {
   "cell_type": "markdown",
   "id": "853027e0",
   "metadata": {
    "papermill": {
     "duration": 0.021337,
     "end_time": "2024-02-11T21:37:33.726824",
     "exception": false,
     "start_time": "2024-02-11T21:37:33.705487",
     "status": "completed"
    },
    "tags": []
   },
   "source": [
    "When I removed the call to the kernel itself, it took around 50 µs (0.05 ms) to run, so that's the overhead of the call on my machine."
   ]
  },
  {
   "cell_type": "markdown",
   "id": "0f3e7e5b",
   "metadata": {
    "papermill": {
     "duration": 0.021154,
     "end_time": "2024-02-11T21:37:33.769317",
     "exception": false,
     "start_time": "2024-02-11T21:37:33.748163",
     "status": "completed"
    },
    "tags": []
   },
   "source": [
    "## Shared mem"
   ]
  },
  {
   "cell_type": "markdown",
   "id": "8982c1a2",
   "metadata": {
    "papermill": {
     "duration": 0.021243,
     "end_time": "2024-02-11T21:37:33.812528",
     "exception": false,
     "start_time": "2024-02-11T21:37:33.791285",
     "status": "completed"
    },
    "tags": []
   },
   "source": [
    "### Python"
   ]
  },
  {
   "cell_type": "code",
   "execution_count": 25,
   "id": "b4fee664",
   "metadata": {
    "execution": {
     "iopub.execute_input": "2024-02-11T21:37:33.856969Z",
     "iopub.status.busy": "2024-02-11T21:37:33.856137Z",
     "iopub.status.idle": "2024-02-11T21:37:33.863849Z",
     "shell.execute_reply": "2024-02-11T21:37:33.863024Z"
    },
    "papermill": {
     "duration": 0.031886,
     "end_time": "2024-02-11T21:37:33.865748",
     "exception": false,
     "start_time": "2024-02-11T21:37:33.833862",
     "status": "completed"
    },
    "tags": []
   },
   "outputs": [],
   "source": [
    "a = torch.zeros(5)\n",
    "b,c = a[:3],a[3:]"
   ]
  },
  {
   "cell_type": "code",
   "execution_count": 26,
   "id": "feafb689",
   "metadata": {
    "execution": {
     "iopub.execute_input": "2024-02-11T21:37:33.911485Z",
     "iopub.status.busy": "2024-02-11T21:37:33.910841Z",
     "iopub.status.idle": "2024-02-11T21:37:33.935828Z",
     "shell.execute_reply": "2024-02-11T21:37:33.935037Z"
    },
    "papermill": {
     "duration": 0.050051,
     "end_time": "2024-02-11T21:37:33.938219",
     "exception": false,
     "start_time": "2024-02-11T21:37:33.888168",
     "status": "completed"
    },
    "tags": []
   },
   "outputs": [
    {
     "data": {
      "text/plain": [
       "tensor([0., 2., 0., 6., 0.])"
      ]
     },
     "execution_count": 26,
     "metadata": {},
     "output_type": "execute_result"
    }
   ],
   "source": [
    "b[1] = 2\n",
    "c[0] = 6\n",
    "a"
   ]
  },
  {
   "cell_type": "code",
   "execution_count": 27,
   "id": "73749170",
   "metadata": {
    "execution": {
     "iopub.execute_input": "2024-02-11T21:37:33.989530Z",
     "iopub.status.busy": "2024-02-11T21:37:33.988873Z",
     "iopub.status.idle": "2024-02-11T21:37:33.997574Z",
     "shell.execute_reply": "2024-02-11T21:37:33.996777Z"
    },
    "papermill": {
     "duration": 0.034302,
     "end_time": "2024-02-11T21:37:33.999575",
     "exception": false,
     "start_time": "2024-02-11T21:37:33.965273",
     "status": "completed"
    },
    "tags": []
   },
   "outputs": [],
   "source": [
    "def blk_kernel2d_shar(f, blocks, threads, sh_sz, *args, **kwargs):\n",
    "    for i0 in range(blocks.y):\n",
    "        for i1 in range(blocks.x):\n",
    "            shared = torch.zeros(sh_sz)\n",
    "            f(dim3(i1,i0), threads, shared, *args, **kwargs)"
   ]
  },
  {
   "cell_type": "code",
   "execution_count": 28,
   "id": "c251a610",
   "metadata": {
    "execution": {
     "iopub.execute_input": "2024-02-11T21:37:34.044099Z",
     "iopub.status.busy": "2024-02-11T21:37:34.043492Z",
     "iopub.status.idle": "2024-02-11T21:37:34.057204Z",
     "shell.execute_reply": "2024-02-11T21:37:34.056453Z"
    },
    "papermill": {
     "duration": 0.038182,
     "end_time": "2024-02-11T21:37:34.059282",
     "exception": false,
     "start_time": "2024-02-11T21:37:34.021100",
     "status": "completed"
    },
    "tags": []
   },
   "outputs": [],
   "source": [
    "def matmul_tiled_bk(blockIdx, blockDim, shared, m, n, out, h, w, k, tw):\n",
    "    shar_sz = tw*tw\n",
    "    ms,ns = shared[:shar_sz],shared[shar_sz:]\n",
    "\n",
    "    for ph in range(cdiv(k,tw)):\n",
    "        idx = ph*tw\n",
    "        # fill shared\n",
    "        for tr in range(blockDim.y):\n",
    "            for tc in range(blockDim.x):\n",
    "                r,c = blockIdx.y*blockDim.y + tr, blockIdx.x*blockDim.x + tc\n",
    "                ms[tr*tw+tc] = m[ tc+idx + r*k] if r<h and idx+tc<k else 0.\n",
    "                ns[tr*tw+tc] = n[(tr+idx)*w +c] if c<w and idx+tr<k else 0.\n",
    "\n",
    "        # do dotprods from shared\n",
    "        for tr in range(blockDim.y):\n",
    "            for tc in range(blockDim.x):\n",
    "                r,c = blockIdx.y*blockDim.y + tr, blockIdx.x*blockDim.x + tc\n",
    "                for i in range(tw):\n",
    "                    if r*w+c<len(out): out[r*w+c] += ms[tr*tw+i] * ns[tw*i+tc]"
   ]
  },
  {
   "cell_type": "code",
   "execution_count": 29,
   "id": "622998db",
   "metadata": {
    "execution": {
     "iopub.execute_input": "2024-02-11T21:37:34.107593Z",
     "iopub.status.busy": "2024-02-11T21:37:34.106990Z",
     "iopub.status.idle": "2024-02-11T21:37:34.117434Z",
     "shell.execute_reply": "2024-02-11T21:37:34.116453Z"
    },
    "papermill": {
     "duration": 0.038117,
     "end_time": "2024-02-11T21:37:34.120198",
     "exception": false,
     "start_time": "2024-02-11T21:37:34.082081",
     "status": "completed"
    },
    "tags": []
   },
   "outputs": [],
   "source": [
    "def matmul_2d(m, n, tw=16):\n",
    "    h,k  = m.shape\n",
    "    k2,w = n.shape\n",
    "    assert k==k2, \"Size mismatch!\"\n",
    "    output = torch.zeros(h, w, dtype=m.dtype)\n",
    "    tpb = dim3(tw,tw)\n",
    "    blocks = dim3(cdiv(w,tpb.x), cdiv(h,tpb.y))\n",
    "    blk_kernel2d_shar(matmul_tiled_bk, blocks, tpb, tw*tw*2,\n",
    "                      m.flatten(), n.flatten(), output.flatten(),\n",
    "                      h, w, k, tw=tw)\n",
    "    return output"
   ]
  },
  {
   "cell_type": "code",
   "execution_count": 30,
   "id": "4fc53edc",
   "metadata": {
    "execution": {
     "iopub.execute_input": "2024-02-11T21:37:34.164585Z",
     "iopub.status.busy": "2024-02-11T21:37:34.164310Z",
     "iopub.status.idle": "2024-02-11T21:37:34.172260Z",
     "shell.execute_reply": "2024-02-11T21:37:34.171591Z"
    },
    "papermill": {
     "duration": 0.031796,
     "end_time": "2024-02-11T21:37:34.174159",
     "exception": false,
     "start_time": "2024-02-11T21:37:34.142363",
     "status": "completed"
    },
    "tags": []
   },
   "outputs": [
    {
     "data": {
      "text/plain": [
       "(torch.Size([4, 256]), torch.Size([256, 5120]))"
      ]
     },
     "execution_count": 30,
     "metadata": {},
     "output_type": "execute_result"
    }
   ],
   "source": [
    "m1s.shape, m2.shape"
   ]
  },
  {
   "cell_type": "code",
   "execution_count": 31,
   "id": "c0c13093",
   "metadata": {
    "execution": {
     "iopub.execute_input": "2024-02-11T21:37:34.219919Z",
     "iopub.status.busy": "2024-02-11T21:37:34.219643Z",
     "iopub.status.idle": "2024-02-11T21:37:34.530635Z",
     "shell.execute_reply": "2024-02-11T21:37:34.529772Z"
    },
    "papermill": {
     "duration": 0.335648,
     "end_time": "2024-02-11T21:37:34.532815",
     "exception": false,
     "start_time": "2024-02-11T21:37:34.197167",
     "status": "completed"
    },
    "tags": []
   },
   "outputs": [
    {
     "data": {
      "text/plain": [
       "tensor(True)"
      ]
     },
     "execution_count": 31,
     "metadata": {},
     "output_type": "execute_result"
    }
   ],
   "source": [
    "torch.isclose(matmul_2d(m1s, m2s, tw=16), m1s@m2s).all()"
   ]
  },
  {
   "cell_type": "markdown",
   "id": "a7698760",
   "metadata": {
    "papermill": {
     "duration": 0.022493,
     "end_time": "2024-02-11T21:37:34.577932",
     "exception": false,
     "start_time": "2024-02-11T21:37:34.555439",
     "status": "completed"
    },
    "tags": []
   },
   "source": [
    "### Python run_threads"
   ]
  },
  {
   "cell_type": "code",
   "execution_count": 32,
   "id": "3b38d70d",
   "metadata": {
    "execution": {
     "iopub.execute_input": "2024-02-11T21:37:34.622533Z",
     "iopub.status.busy": "2024-02-11T21:37:34.622226Z",
     "iopub.status.idle": "2024-02-11T21:37:34.628956Z",
     "shell.execute_reply": "2024-02-11T21:37:34.628267Z"
    },
    "papermill": {
     "duration": 0.031251,
     "end_time": "2024-02-11T21:37:34.630776",
     "exception": false,
     "start_time": "2024-02-11T21:37:34.599525",
     "status": "completed"
    },
    "tags": []
   },
   "outputs": [],
   "source": [
    "def run_threads(f, blockDim, *args, **kwargs):\n",
    "    for i0 in range(blockDim.y):\n",
    "        for i1 in range(blockDim.x): f(i0, i1, *args, **kwargs)"
   ]
  },
  {
   "cell_type": "code",
   "execution_count": 33,
   "id": "21294376",
   "metadata": {
    "execution": {
     "iopub.execute_input": "2024-02-11T21:37:34.677602Z",
     "iopub.status.busy": "2024-02-11T21:37:34.676937Z",
     "iopub.status.idle": "2024-02-11T21:37:34.687968Z",
     "shell.execute_reply": "2024-02-11T21:37:34.687233Z"
    },
    "papermill": {
     "duration": 0.0353,
     "end_time": "2024-02-11T21:37:34.689854",
     "exception": false,
     "start_time": "2024-02-11T21:37:34.654554",
     "status": "completed"
    },
    "tags": []
   },
   "outputs": [],
   "source": [
    "def matmul_tiled_bk(blockIdx, blockDim, shared, m, n, out, h, w, k, tw):\n",
    "    shar_sz = tw*tw\n",
    "    ms,ns = shared[:shar_sz],shared[shar_sz:]\n",
    "\n",
    "    def get_rc(tr, tc): return blockIdx.y*blockDim.y + tr, blockIdx.x*blockDim.x + tc\n",
    "\n",
    "    def fill_shared_tk(tr, tc, ph):\n",
    "        r,c = get_rc(tr, tc)\n",
    "        ms[tr*tw+tc] = m[ tc + ph*tw + r*k] if r<h and (ph*tw+tc)<k else 0.\n",
    "        ns[tr*tw+tc] = n[(tr + ph*tw)*w +c] if c<w and (ph*tw+tr)<k else 0.\n",
    "\n",
    "    def dotprod_tk(tr, tc):\n",
    "        r,c = get_rc(tr, tc)\n",
    "        for i in range(tw):\n",
    "            if r*w+c<len(out): out[r*w+c] += ms[tr*tw+i] * ns[tw*i+tc]\n",
    "\n",
    "    for ph in range(int(math.ceil(k/tw))):\n",
    "        run_threads(fill_shared_tk, blockDim, ph)\n",
    "        run_threads(dotprod_tk, blockDim)"
   ]
  },
  {
   "cell_type": "code",
   "execution_count": 34,
   "id": "8a6f9425",
   "metadata": {
    "execution": {
     "iopub.execute_input": "2024-02-11T21:37:34.734686Z",
     "iopub.status.busy": "2024-02-11T21:37:34.734450Z",
     "iopub.status.idle": "2024-02-11T21:37:34.742531Z",
     "shell.execute_reply": "2024-02-11T21:37:34.741850Z"
    },
    "papermill": {
     "duration": 0.032183,
     "end_time": "2024-02-11T21:37:34.744341",
     "exception": false,
     "start_time": "2024-02-11T21:37:34.712158",
     "status": "completed"
    },
    "tags": []
   },
   "outputs": [],
   "source": [
    "def matmul_2d(m, n, tw=16):\n",
    "    h,k  = m.shape\n",
    "    k2,w = n.shape\n",
    "    assert k==k2, \"Size mismatch!\"\n",
    "    output = torch.zeros(h, w, dtype=m.dtype)\n",
    "    tpb = dim3(tw,tw)\n",
    "    blocks = dim3(cdiv(w,tpb.x), cdiv(h,tpb.y))\n",
    "    blk_kernel2d_shar(matmul_tiled_bk, blocks, tpb, tw*tw*2,\n",
    "                      m.flatten(), n.flatten(), output.flatten(),\n",
    "                      h, w, k, tw=tw)\n",
    "    return output"
   ]
  },
  {
   "cell_type": "code",
   "execution_count": 35,
   "id": "7f62d892",
   "metadata": {
    "execution": {
     "iopub.execute_input": "2024-02-11T21:37:34.788495Z",
     "iopub.status.busy": "2024-02-11T21:37:34.788236Z",
     "iopub.status.idle": "2024-02-11T21:37:34.796051Z",
     "shell.execute_reply": "2024-02-11T21:37:34.795221Z"
    },
    "papermill": {
     "duration": 0.031901,
     "end_time": "2024-02-11T21:37:34.797996",
     "exception": false,
     "start_time": "2024-02-11T21:37:34.766095",
     "status": "completed"
    },
    "tags": []
   },
   "outputs": [
    {
     "data": {
      "text/plain": [
       "(torch.Size([4, 256]), torch.Size([256, 4]))"
      ]
     },
     "execution_count": 35,
     "metadata": {},
     "output_type": "execute_result"
    }
   ],
   "source": [
    "m1s.shape, m2s.shape"
   ]
  },
  {
   "cell_type": "code",
   "execution_count": 36,
   "id": "ecb6f378",
   "metadata": {
    "execution": {
     "iopub.execute_input": "2024-02-11T21:37:34.842232Z",
     "iopub.status.busy": "2024-02-11T21:37:34.841997Z",
     "iopub.status.idle": "2024-02-11T21:37:35.159286Z",
     "shell.execute_reply": "2024-02-11T21:37:35.158236Z"
    },
    "papermill": {
     "duration": 0.341746,
     "end_time": "2024-02-11T21:37:35.161450",
     "exception": false,
     "start_time": "2024-02-11T21:37:34.819704",
     "status": "completed"
    },
    "tags": []
   },
   "outputs": [
    {
     "data": {
      "text/plain": [
       "tensor(True)"
      ]
     },
     "execution_count": 36,
     "metadata": {},
     "output_type": "execute_result"
    }
   ],
   "source": [
    "torch.isclose(matmul_2d(m1s, m2s, tw=16), m1s@m2s).all()"
   ]
  },
  {
   "cell_type": "markdown",
   "id": "e331dfe4",
   "metadata": {
    "papermill": {
     "duration": 0.022024,
     "end_time": "2024-02-11T21:37:35.206545",
     "exception": false,
     "start_time": "2024-02-11T21:37:35.184521",
     "status": "completed"
    },
    "tags": []
   },
   "source": [
    "### Python threads"
   ]
  },
  {
   "cell_type": "code",
   "execution_count": 37,
   "id": "5d3b708c",
   "metadata": {
    "execution": {
     "iopub.execute_input": "2024-02-11T21:37:35.251763Z",
     "iopub.status.busy": "2024-02-11T21:37:35.251382Z",
     "iopub.status.idle": "2024-02-11T21:37:35.258240Z",
     "shell.execute_reply": "2024-02-11T21:37:35.257538Z"
    },
    "papermill": {
     "duration": 0.031764,
     "end_time": "2024-02-11T21:37:35.260271",
     "exception": false,
     "start_time": "2024-02-11T21:37:35.228507",
     "status": "completed"
    },
    "tags": []
   },
   "outputs": [],
   "source": [
    "import threading\n",
    "from threading import Barrier, Thread\n",
    "from concurrent.futures import ThreadPoolExecutor"
   ]
  },
  {
   "cell_type": "code",
   "execution_count": 38,
   "id": "2fb47269",
   "metadata": {
    "execution": {
     "iopub.execute_input": "2024-02-11T21:37:35.308351Z",
     "iopub.status.busy": "2024-02-11T21:37:35.308083Z",
     "iopub.status.idle": "2024-02-11T21:37:35.315227Z",
     "shell.execute_reply": "2024-02-11T21:37:35.314444Z"
    },
    "papermill": {
     "duration": 0.032811,
     "end_time": "2024-02-11T21:37:35.317100",
     "exception": false,
     "start_time": "2024-02-11T21:37:35.284289",
     "status": "completed"
    },
    "tags": []
   },
   "outputs": [],
   "source": [
    "def g(x, sb):\n",
    "    print(x)\n",
    "    sb.wait()\n",
    "    print(-x)\n",
    "    sb.wait()\n",
    "    print(x*10)"
   ]
  },
  {
   "cell_type": "code",
   "execution_count": 39,
   "id": "6deb89e4",
   "metadata": {
    "execution": {
     "iopub.execute_input": "2024-02-11T21:37:35.362227Z",
     "iopub.status.busy": "2024-02-11T21:37:35.361968Z",
     "iopub.status.idle": "2024-02-11T21:37:35.371639Z",
     "shell.execute_reply": "2024-02-11T21:37:35.370914Z"
    },
    "papermill": {
     "duration": 0.0344,
     "end_time": "2024-02-11T21:37:35.373474",
     "exception": false,
     "start_time": "2024-02-11T21:37:35.339074",
     "status": "completed"
    },
    "tags": []
   },
   "outputs": [
    {
     "name": "stdout",
     "output_type": "stream",
     "text": [
      "1\n",
      "2\n",
      "3\n",
      "-3\n",
      "-2\n",
      "-1\n",
      "30\n",
      "10\n",
      "20\n"
     ]
    }
   ],
   "source": [
    "num = 3\n",
    "sb = Barrier(num)\n",
    "with ThreadPoolExecutor(num) as ex: list(ex.map(lambda i: g(i,sb), range(1,num+1)))"
   ]
  },
  {
   "cell_type": "code",
   "execution_count": 40,
   "id": "ba134ea0",
   "metadata": {
    "execution": {
     "iopub.execute_input": "2024-02-11T21:37:35.419399Z",
     "iopub.status.busy": "2024-02-11T21:37:35.419142Z",
     "iopub.status.idle": "2024-02-11T21:37:35.427905Z",
     "shell.execute_reply": "2024-02-11T21:37:35.427224Z"
    },
    "papermill": {
     "duration": 0.033961,
     "end_time": "2024-02-11T21:37:35.429788",
     "exception": false,
     "start_time": "2024-02-11T21:37:35.395827",
     "status": "completed"
    },
    "tags": []
   },
   "outputs": [],
   "source": [
    "def blk_kernel2d_shar(f, blocks, tpb, sh_sz, *args, **kwargs):\n",
    "    for i0 in range(blocks.y):\n",
    "        for i1 in range(blocks.x):\n",
    "            shar = torch.zeros(sh_sz)\n",
    "            syncb = Barrier(tpb.y*tpb.x)\n",
    "            threads = [Thread(target=f, args=(dim3(i1,i0), dim3(p,o), tpb, shar, syncb, *args), kwargs=kwargs)\n",
    "                       for o in range(tpb.y) for p in range(tpb.x)]\n",
    "            for tr in threads: tr.start()\n",
    "            for tr in threads: tr.join()"
   ]
  },
  {
   "cell_type": "code",
   "execution_count": 41,
   "id": "a2ad12a0",
   "metadata": {
    "execution": {
     "iopub.execute_input": "2024-02-11T21:37:35.475358Z",
     "iopub.status.busy": "2024-02-11T21:37:35.475096Z",
     "iopub.status.idle": "2024-02-11T21:37:35.484728Z",
     "shell.execute_reply": "2024-02-11T21:37:35.484052Z"
    },
    "papermill": {
     "duration": 0.034174,
     "end_time": "2024-02-11T21:37:35.486663",
     "exception": false,
     "start_time": "2024-02-11T21:37:35.452489",
     "status": "completed"
    },
    "tags": []
   },
   "outputs": [],
   "source": [
    "def matmul_tiled_bk(blockIdx, threadIdx, blockDim, shared, syncb, m, n, out, h, w, k, tw):\n",
    "    tc,tr = threadIdx.x,threadIdx.y\n",
    "    r = blockIdx.y*blockDim.y + tr\n",
    "    c = blockIdx.x*blockDim.x + tc\n",
    "\n",
    "    shar_sz = tw*tw\n",
    "    ms,ns = shared[:shar_sz],shared[shar_sz:]\n",
    "\n",
    "    p = 0.\n",
    "    for ph in range(cdiv(k,tw)):\n",
    "        ms[tr*tw+tc] = m[ tc + ph*tw + r*k] if r<h and (ph*tw+tc)<k else 0.\n",
    "        ns[tr*tw+tc] = n[(tr + ph*tw)*w +c] if c<w and (ph*tw+tr)<k else 0.\n",
    "        syncb.wait()\n",
    "        for i in range(tw): p += ms[tr*tw+i] * ns[tw*i+tc]\n",
    "        syncb.wait()\n",
    "\n",
    "    if (r<h and c<w): out[r*w + c] = p"
   ]
  },
  {
   "cell_type": "code",
   "execution_count": 42,
   "id": "a95148b4",
   "metadata": {
    "execution": {
     "iopub.execute_input": "2024-02-11T21:37:35.531981Z",
     "iopub.status.busy": "2024-02-11T21:37:35.531534Z",
     "iopub.status.idle": "2024-02-11T21:37:35.539457Z",
     "shell.execute_reply": "2024-02-11T21:37:35.538850Z"
    },
    "papermill": {
     "duration": 0.032676,
     "end_time": "2024-02-11T21:37:35.541348",
     "exception": false,
     "start_time": "2024-02-11T21:37:35.508672",
     "status": "completed"
    },
    "tags": []
   },
   "outputs": [],
   "source": [
    "def matmul_2d(m, n, tw=16):\n",
    "    h,k  = m.shape\n",
    "    k2,w = n.shape\n",
    "    assert k==k2, \"Size mismatch!\"\n",
    "    output = torch.zeros(h, w, dtype=m.dtype)\n",
    "    tpb = dim3(tw,tw)\n",
    "    blocks = dim3(cdiv(w,tpb.x), cdiv(h,tpb.y))\n",
    "    blk_kernel2d_shar(matmul_tiled_bk, blocks, tpb, tw*tw*2,\n",
    "                      m.flatten(), n.flatten(), output.flatten(),\n",
    "                      h, w, k, tw=tw)\n",
    "    return output"
   ]
  },
  {
   "cell_type": "code",
   "execution_count": 43,
   "id": "7f929871",
   "metadata": {
    "execution": {
     "iopub.execute_input": "2024-02-11T21:37:35.587389Z",
     "iopub.status.busy": "2024-02-11T21:37:35.586918Z",
     "iopub.status.idle": "2024-02-11T21:37:36.913749Z",
     "shell.execute_reply": "2024-02-11T21:37:36.912735Z"
    },
    "papermill": {
     "duration": 1.351882,
     "end_time": "2024-02-11T21:37:36.915851",
     "exception": false,
     "start_time": "2024-02-11T21:37:35.563969",
     "status": "completed"
    },
    "tags": []
   },
   "outputs": [
    {
     "data": {
      "text/plain": [
       "tensor(True)"
      ]
     },
     "execution_count": 43,
     "metadata": {},
     "output_type": "execute_result"
    }
   ],
   "source": [
    "torch.isclose(matmul_2d(m1s, m2s, tw=8), m1s@m2s).all()"
   ]
  },
  {
   "cell_type": "markdown",
   "id": "8904ec48",
   "metadata": {
    "papermill": {
     "duration": 0.030745,
     "end_time": "2024-02-11T21:37:36.972088",
     "exception": false,
     "start_time": "2024-02-11T21:37:36.941343",
     "status": "completed"
    },
    "tags": []
   },
   "source": [
    "### CUDA dynamic shared"
   ]
  },
  {
   "cell_type": "markdown",
   "id": "ef94bc7f",
   "metadata": {
    "papermill": {
     "duration": 0.022434,
     "end_time": "2024-02-11T21:37:37.021672",
     "exception": false,
     "start_time": "2024-02-11T21:37:36.999238",
     "status": "completed"
    },
    "tags": []
   },
   "source": [
    "Code auto-generated by ChatGPT 4, using the following prompt:\n",
    "\n",
    "> Convert the following python code to CUDA C, keeping formatting and variable names the same where possible. You can remove `blockIdx, threadIdx, blockDim, shared` from the argument list, since they're already provided by CUDA. Change `syncb.wait()` to `__syncthreads`. Use `extern __shared__ float shared[]` to create the `shared` array. Use the C ternary operator to replace the Python equivalent where appropriate. If the Python code uses any non-standard functions, you can assume the same functions are also available to the translated C code with the same name and signature.\n",
    "\n",
    "The generated code worked first time, although we did some minor cleanups afterwards (e.g. renaming `shared` to `ms`)."
   ]
  },
  {
   "cell_type": "code",
   "execution_count": 44,
   "id": "e9856187",
   "metadata": {
    "execution": {
     "iopub.execute_input": "2024-02-11T21:37:37.067110Z",
     "iopub.status.busy": "2024-02-11T21:37:37.066796Z",
     "iopub.status.idle": "2024-02-11T21:37:37.073747Z",
     "shell.execute_reply": "2024-02-11T21:37:37.073021Z"
    },
    "papermill": {
     "duration": 0.031871,
     "end_time": "2024-02-11T21:37:37.075580",
     "exception": false,
     "start_time": "2024-02-11T21:37:37.043709",
     "status": "completed"
    },
    "tags": []
   },
   "outputs": [],
   "source": [
    "cuda_src = cuda_begin + r'''\n",
    "__global__ void matmul_k(float *m, float *n, float *out, int h, int w, int k, int tw) {\n",
    "    int tc=threadIdx.x, tr=threadIdx.y;\n",
    "    int r=blockIdx.y*blockDim.y+tr, c=blockIdx.x*blockDim.x+tc;\n",
    "\n",
    "    extern __shared__ float ms[];\n",
    "    float *ns = &ms[tw*tw];\n",
    "\n",
    "    float p = 0.0f;\n",
    "    for (int ph = 0; ph < cdiv(k,tw); ++ph) {\n",
    "        int idx = ph*tw;\n",
    "        ms[tr*tw + tc] = r<h && idx+tc<k ? m[ tc+idx + r*k ] : 0.0f;\n",
    "        ns[tr*tw + tc] = c<w && idx+tr<k ? n[(tr+idx)*w + c] : 0.0f;\n",
    "        __syncthreads();\n",
    "        for (int i=0; i<tw; ++i) p += ms[tr*tw + i] * ns[tw*i + tc];\n",
    "        __syncthreads();\n",
    "    }\n",
    "    if (r<h && c<w) out[r*w + c] = p;\n",
    "}\n",
    "'''"
   ]
  },
  {
   "cell_type": "code",
   "execution_count": 45,
   "id": "7164b30a",
   "metadata": {
    "execution": {
     "iopub.execute_input": "2024-02-11T21:37:37.122133Z",
     "iopub.status.busy": "2024-02-11T21:37:37.121650Z",
     "iopub.status.idle": "2024-02-11T21:37:37.128984Z",
     "shell.execute_reply": "2024-02-11T21:37:37.128307Z"
    },
    "papermill": {
     "duration": 0.032037,
     "end_time": "2024-02-11T21:37:37.130803",
     "exception": false,
     "start_time": "2024-02-11T21:37:37.098766",
     "status": "completed"
    },
    "tags": []
   },
   "outputs": [],
   "source": [
    "cuda_src += r'''\n",
    "torch::Tensor matmul_dyn(torch::Tensor m, torch::Tensor n) {\n",
    "    CHECK_INPUT(m); CHECK_INPUT(n);\n",
    "    int h=m.size(0), w=n.size(1), k=m.size(1);\n",
    "    TORCH_CHECK(k==n.size(0), \"Size mismatch!\");\n",
    "    auto output = torch::zeros({h, w}, m.options());\n",
    "\n",
    "    /*\n",
    "    cudaDeviceProp devProp;\n",
    "    CUDA_ERR(cudaGetDeviceProperties(&devProp, 0));\n",
    "    int maxThreads = devProp.maxThreadsPerBlock;\n",
    "    size_t requiredSize = static_cast<size_t>(maxThreads) * 2 * sizeof(float);\n",
    "    size_t size = min(devProp.sharedMemPerBlock, requiredSize);\n",
    "    int TW = std::sqrt(maxThreads);\n",
    "    */\n",
    "    int TW = 16;\n",
    "    size_t size = TW*TW * 2 * sizeof(float);\n",
    "\n",
    "    dim3 tpb(TW,TW);\n",
    "    dim3 blocks(cdiv(w, tpb.x), cdiv(h, tpb.y));\n",
    "    matmul_k<<<blocks,tpb,size>>>(\n",
    "        m.data_ptr<float>(), n.data_ptr<float>(), output.data_ptr<float>(), h, w, k, TW);\n",
    "    C10_CUDA_KERNEL_LAUNCH_CHECK();\n",
    "    return output;\n",
    "}\n",
    "'''"
   ]
  },
  {
   "cell_type": "code",
   "execution_count": 46,
   "id": "6eb8fe63",
   "metadata": {
    "execution": {
     "iopub.execute_input": "2024-02-11T21:37:37.176512Z",
     "iopub.status.busy": "2024-02-11T21:37:37.176212Z",
     "iopub.status.idle": "2024-02-11T21:37:37.182390Z",
     "shell.execute_reply": "2024-02-11T21:37:37.181690Z"
    },
    "papermill": {
     "duration": 0.031284,
     "end_time": "2024-02-11T21:37:37.184242",
     "exception": false,
     "start_time": "2024-02-11T21:37:37.152958",
     "status": "completed"
    },
    "tags": []
   },
   "outputs": [],
   "source": [
    "fname = 'matmul_dyn'"
   ]
  },
  {
   "cell_type": "code",
   "execution_count": 47,
   "id": "c495386c",
   "metadata": {
    "execution": {
     "iopub.execute_input": "2024-02-11T21:37:37.230869Z",
     "iopub.status.busy": "2024-02-11T21:37:37.230193Z",
     "iopub.status.idle": "2024-02-11T21:37:37.236988Z",
     "shell.execute_reply": "2024-02-11T21:37:37.236228Z"
    },
    "papermill": {
     "duration": 0.031625,
     "end_time": "2024-02-11T21:37:37.238830",
     "exception": false,
     "start_time": "2024-02-11T21:37:37.207205",
     "status": "completed"
    },
    "tags": []
   },
   "outputs": [],
   "source": [
    "cpp_src = get_sig(fname, cuda_src)"
   ]
  },
  {
   "cell_type": "code",
   "execution_count": 48,
   "id": "3ac63654",
   "metadata": {
    "execution": {
     "iopub.execute_input": "2024-02-11T21:37:37.285625Z",
     "iopub.status.busy": "2024-02-11T21:37:37.285148Z",
     "iopub.status.idle": "2024-02-11T21:38:49.060794Z",
     "shell.execute_reply": "2024-02-11T21:38:49.059775Z"
    },
    "papermill": {
     "duration": 71.801646,
     "end_time": "2024-02-11T21:38:49.063262",
     "exception": false,
     "start_time": "2024-02-11T21:37:37.261616",
     "status": "completed"
    },
    "tags": []
   },
   "outputs": [],
   "source": [
    "module_matmul_dyn = load_cuda(cuda_src, cpp_src, [fname], opt=True)"
   ]
  },
  {
   "cell_type": "code",
   "execution_count": 49,
   "id": "48e9a29d",
   "metadata": {
    "execution": {
     "iopub.execute_input": "2024-02-11T21:38:49.110034Z",
     "iopub.status.busy": "2024-02-11T21:38:49.109743Z",
     "iopub.status.idle": "2024-02-11T21:38:49.177951Z",
     "shell.execute_reply": "2024-02-11T21:38:49.177255Z"
    },
    "papermill": {
     "duration": 0.093303,
     "end_time": "2024-02-11T21:38:49.179788",
     "exception": false,
     "start_time": "2024-02-11T21:38:49.086485",
     "status": "completed"
    },
    "tags": []
   },
   "outputs": [
    {
     "data": {
      "text/plain": [
       "tensor(True, device='cuda:0')"
      ]
     },
     "execution_count": 49,
     "metadata": {},
     "output_type": "execute_result"
    }
   ],
   "source": [
    "torch.isclose(module_matmul_dyn.matmul_dyn(m1c,m2c), m1c@m2c).all()"
   ]
  },
  {
   "cell_type": "code",
   "execution_count": 50,
   "id": "7e8d338a",
   "metadata": {
    "execution": {
     "iopub.execute_input": "2024-02-11T21:38:49.225788Z",
     "iopub.status.busy": "2024-02-11T21:38:49.225523Z",
     "iopub.status.idle": "2024-02-11T21:38:51.002337Z",
     "shell.execute_reply": "2024-02-11T21:38:51.001434Z"
    },
    "papermill": {
     "duration": 1.802374,
     "end_time": "2024-02-11T21:38:51.004501",
     "exception": false,
     "start_time": "2024-02-11T21:38:49.202127",
     "status": "completed"
    },
    "tags": []
   },
   "outputs": [
    {
     "name": "stdout",
     "output_type": "stream",
     "text": [
      "25.3 ms ± 2.85 ms per loop (mean ± std. dev. of 7 runs, 10 loops each)\n"
     ]
    }
   ],
   "source": [
    "%%timeit -n 10\n",
    "module_matmul_dyn.matmul_dyn(m1c,m2c)\n",
    "torch.cuda.synchronize()"
   ]
  },
  {
   "cell_type": "markdown",
   "id": "7e85096a",
   "metadata": {
    "papermill": {
     "duration": 0.022207,
     "end_time": "2024-02-11T21:38:51.049648",
     "exception": false,
     "start_time": "2024-02-11T21:38:51.027441",
     "status": "completed"
    },
    "tags": []
   },
   "source": [
    "### CUDA static shared"
   ]
  },
  {
   "cell_type": "code",
   "execution_count": 51,
   "id": "18fd1f4a",
   "metadata": {
    "execution": {
     "iopub.execute_input": "2024-02-11T21:38:51.096013Z",
     "iopub.status.busy": "2024-02-11T21:38:51.095711Z",
     "iopub.status.idle": "2024-02-11T21:38:51.102869Z",
     "shell.execute_reply": "2024-02-11T21:38:51.102163Z"
    },
    "papermill": {
     "duration": 0.032641,
     "end_time": "2024-02-11T21:38:51.104687",
     "exception": false,
     "start_time": "2024-02-11T21:38:51.072046",
     "status": "completed"
    },
    "tags": []
   },
   "outputs": [],
   "source": [
    "cuda_src = cuda_begin + r'''\n",
    "constexpr int tw = 16;\n",
    "\n",
    "__global__ void matmul_ks(float *m, float *n, float *out, int h, int w, int k) {\n",
    "    __shared__ float ms[tw][tw], ns[tw][tw];\n",
    "    int tc=threadIdx.x, tr=threadIdx.y;\n",
    "    int r=blockIdx.y*blockDim.y+tr, c=blockIdx.x*blockDim.x+tc;\n",
    "\n",
    "    float p=0.0f;\n",
    "    for (int ph=0; ph < cdiv(k,tw); ++ph) {\n",
    "        int idx = ph*tw;\n",
    "        ms[tr][tc] = r<h && idx+tc<k ? m[ tc+idx + r*k ] : 0.0f;\n",
    "        ns[tr][tc] = c<w && idx+tr<k ? n[(tr+idx)*w + c] : 0.0f;\n",
    "        __syncthreads();\n",
    "        for (int i=0; i<tw; ++i) p += ms[tr][i] * ns[i][tc];\n",
    "        __syncthreads();\n",
    "    }\n",
    "    if (r<h && c<w) out[r*w + c] = p;\n",
    "}\n",
    "\n",
    "torch::Tensor matmul_static(torch::Tensor m, torch::Tensor n) {\n",
    "    CHECK_INPUT(m); CHECK_INPUT(n);\n",
    "    int h=m.size(0), w=n.size(1), k=m.size(1);\n",
    "    TORCH_CHECK(k==n.size(0), \"Size mismatch!\");\n",
    "    auto output = torch::zeros({h, w}, m.options());\n",
    "    dim3 tpb(tw,tw);\n",
    "    dim3 blocks(cdiv(w, tpb.x), cdiv(h, tpb.y));\n",
    "    matmul_ks<<<blocks,tpb>>>(m.data_ptr<float>(), n.data_ptr<float>(), output.data_ptr<float>(), h, w, k);\n",
    "    C10_CUDA_KERNEL_LAUNCH_CHECK();\n",
    "    return output;\n",
    "}\n",
    "'''"
   ]
  },
  {
   "cell_type": "code",
   "execution_count": 52,
   "id": "152a1153",
   "metadata": {
    "execution": {
     "iopub.execute_input": "2024-02-11T21:38:51.150311Z",
     "iopub.status.busy": "2024-02-11T21:38:51.150070Z",
     "iopub.status.idle": "2024-02-11T21:39:58.508919Z",
     "shell.execute_reply": "2024-02-11T21:39:58.507964Z"
    },
    "papermill": {
     "duration": 67.408485,
     "end_time": "2024-02-11T21:39:58.535594",
     "exception": false,
     "start_time": "2024-02-11T21:38:51.127109",
     "status": "completed"
    },
    "tags": []
   },
   "outputs": [
    {
     "data": {
      "text/plain": [
       "tensor(True, device='cuda:0')"
      ]
     },
     "execution_count": 52,
     "metadata": {},
     "output_type": "execute_result"
    }
   ],
   "source": [
    "fname = 'matmul_static'\n",
    "cpp_src = get_sig(fname, cuda_src)\n",
    "matmul_static = load_cuda(cuda_src, cpp_src, [fname])\n",
    "torch.isclose(matmul_static.matmul_static(m1c,m2c), m1c@m2c).all()"
   ]
  },
  {
   "cell_type": "code",
   "execution_count": 53,
   "id": "45bc0d1d",
   "metadata": {
    "execution": {
     "iopub.execute_input": "2024-02-11T21:39:58.585166Z",
     "iopub.status.busy": "2024-02-11T21:39:58.584889Z",
     "iopub.status.idle": "2024-02-11T21:40:00.023324Z",
     "shell.execute_reply": "2024-02-11T21:40:00.022384Z"
    },
    "papermill": {
     "duration": 1.465092,
     "end_time": "2024-02-11T21:40:00.025372",
     "exception": false,
     "start_time": "2024-02-11T21:39:58.560280",
     "status": "completed"
    },
    "tags": []
   },
   "outputs": [
    {
     "name": "stdout",
     "output_type": "stream",
     "text": [
      "20.4 ms ± 3.5 ms per loop (mean ± std. dev. of 7 runs, 10 loops each)\n"
     ]
    }
   ],
   "source": [
    "%%timeit -n 10\n",
    "matmul_static.matmul_static(m1c,m2c)\n",
    "torch.cuda.synchronize()"
   ]
  },
  {
   "cell_type": "markdown",
   "id": "9c184ebe",
   "metadata": {
    "papermill": {
     "duration": 0.022564,
     "end_time": "2024-02-11T21:40:00.071219",
     "exception": false,
     "start_time": "2024-02-11T21:40:00.048655",
     "status": "completed"
    },
    "tags": []
   },
   "source": [
    "### Static shared with linear index"
   ]
  },
  {
   "cell_type": "markdown",
   "id": "a755072b",
   "metadata": {
    "papermill": {
     "duration": 0.023058,
     "end_time": "2024-02-11T21:40:00.116928",
     "exception": false,
     "start_time": "2024-02-11T21:40:00.093870",
     "status": "completed"
    },
    "tags": []
   },
   "source": [
    "The code is modified from the dynamic shared memory.\n",
    "* Change from `extern __shared__ float ms[];` to `__shared__ float ms[16*16*2];`\n",
    "* Change from \n",
    "```    \n",
    "matmul_k<<<blocks,tpb,size>>>(\n",
    "m.data_ptr<float>(), n.data_ptr<float>(), output.data_ptr<float>(), h, w, k, TW);\n",
    "```\n",
    "to \n",
    "```\n",
    "matmul_k<<<blocks,tpb>>>(\n",
    "m.data_ptr<float>(), n.data_ptr<float>(), output.data_ptr<float>(), h, w, k, TW);\n",
    "```\n"
   ]
  },
  {
   "cell_type": "code",
   "execution_count": 54,
   "id": "957ba783",
   "metadata": {
    "execution": {
     "iopub.execute_input": "2024-02-11T21:40:00.163732Z",
     "iopub.status.busy": "2024-02-11T21:40:00.163084Z",
     "iopub.status.idle": "2024-02-11T21:40:00.170334Z",
     "shell.execute_reply": "2024-02-11T21:40:00.169670Z"
    },
    "papermill": {
     "duration": 0.032781,
     "end_time": "2024-02-11T21:40:00.172261",
     "exception": false,
     "start_time": "2024-02-11T21:40:00.139480",
     "status": "completed"
    },
    "tags": []
   },
   "outputs": [],
   "source": [
    "cuda_src = cuda_begin + r'''\n",
    "__global__ void matmul_k(float *m, float *n, float *out, int h, int w, int k, int tw) {\n",
    "    int tc=threadIdx.x, tr=threadIdx.y;\n",
    "    int r=blockIdx.y*blockDim.y+tr, c=blockIdx.x*blockDim.x+tc;\n",
    "\n",
    "    __shared__ float ms[16*16*2];\n",
    "    float *ns = &ms[tw*tw];\n",
    "\n",
    "    float p = 0.0f;\n",
    "    for (int ph = 0; ph < cdiv(k,tw); ++ph) {\n",
    "        int idx = ph*tw;\n",
    "        ms[tr*tw + tc] = r<h && idx+tc<k ? m[ tc+idx + r*k ] : 0.0f;\n",
    "        ns[tr*tw + tc] = c<w && idx+tr<k ? n[(tr+idx)*w + c] : 0.0f;\n",
    "        __syncthreads();\n",
    "        for (int i=0; i<tw; ++i) p += ms[tr*tw + i] * ns[tw*i + tc];\n",
    "        __syncthreads();\n",
    "    }\n",
    "    if (r<h && c<w) out[r*w + c] = p;\n",
    "}\n",
    "'''"
   ]
  },
  {
   "cell_type": "code",
   "execution_count": 55,
   "id": "0d967cf7",
   "metadata": {
    "execution": {
     "iopub.execute_input": "2024-02-11T21:40:00.218560Z",
     "iopub.status.busy": "2024-02-11T21:40:00.218067Z",
     "iopub.status.idle": "2024-02-11T21:40:00.224881Z",
     "shell.execute_reply": "2024-02-11T21:40:00.224179Z"
    },
    "papermill": {
     "duration": 0.031895,
     "end_time": "2024-02-11T21:40:00.226673",
     "exception": false,
     "start_time": "2024-02-11T21:40:00.194778",
     "status": "completed"
    },
    "tags": []
   },
   "outputs": [],
   "source": [
    "cuda_src += r'''\n",
    "torch::Tensor matmul_dyn_modified(torch::Tensor m, torch::Tensor n) {\n",
    "    CHECK_INPUT(m); CHECK_INPUT(n);\n",
    "    int h=m.size(0), w=n.size(1), k=m.size(1);\n",
    "    TORCH_CHECK(k==n.size(0), \"Size mismatch!\");\n",
    "    auto output = torch::zeros({h, w}, m.options());\n",
    "\n",
    "    /*\n",
    "    cudaDeviceProp devProp;\n",
    "    CUDA_ERR(cudaGetDeviceProperties(&devProp, 0));\n",
    "    int maxThreads = devProp.maxThreadsPerBlock;\n",
    "    size_t requiredSize = static_cast<size_t>(maxThreads) * 2 * sizeof(float);\n",
    "    size_t size = min(devProp.sharedMemPerBlock, requiredSize);\n",
    "    int TW = std::sqrt(maxThreads);\n",
    "    */\n",
    "    int TW = 16;\n",
    "    size_t size = TW*TW * 2 * sizeof(float);\n",
    "\n",
    "    dim3 tpb(TW,TW);\n",
    "    dim3 blocks(cdiv(w, tpb.x), cdiv(h, tpb.y));\n",
    "    matmul_k<<<blocks,tpb>>>(\n",
    "        m.data_ptr<float>(), n.data_ptr<float>(), output.data_ptr<float>(), h, w, k, TW);\n",
    "    C10_CUDA_KERNEL_LAUNCH_CHECK();\n",
    "    return output;\n",
    "}\n",
    "'''"
   ]
  },
  {
   "cell_type": "code",
   "execution_count": 56,
   "id": "3d4c67e2",
   "metadata": {
    "execution": {
     "iopub.execute_input": "2024-02-11T21:40:00.273628Z",
     "iopub.status.busy": "2024-02-11T21:40:00.273347Z",
     "iopub.status.idle": "2024-02-11T21:41:07.664475Z",
     "shell.execute_reply": "2024-02-11T21:41:07.663624Z"
    },
    "papermill": {
     "duration": 67.439437,
     "end_time": "2024-02-11T21:41:07.688939",
     "exception": false,
     "start_time": "2024-02-11T21:40:00.249502",
     "status": "completed"
    },
    "tags": []
   },
   "outputs": [
    {
     "data": {
      "text/plain": [
       "tensor(True, device='cuda:0')"
      ]
     },
     "execution_count": 56,
     "metadata": {},
     "output_type": "execute_result"
    }
   ],
   "source": [
    "fname = 'matmul_dyn_modified'\n",
    "cpp_src = get_sig(fname, cuda_src)\n",
    "module_matmul_dyn_modified = load_cuda(cuda_src, cpp_src, [fname])\n",
    "torch.isclose(module_matmul_dyn_modified.matmul_dyn_modified(m1c,m2c), m1c@m2c).all()"
   ]
  },
  {
   "cell_type": "code",
   "execution_count": 57,
   "id": "a5df5ee1",
   "metadata": {
    "execution": {
     "iopub.execute_input": "2024-02-11T21:41:07.739144Z",
     "iopub.status.busy": "2024-02-11T21:41:07.738801Z",
     "iopub.status.idle": "2024-02-11T21:41:09.551439Z",
     "shell.execute_reply": "2024-02-11T21:41:09.550527Z"
    },
    "papermill": {
     "duration": 1.841615,
     "end_time": "2024-02-11T21:41:09.553507",
     "exception": false,
     "start_time": "2024-02-11T21:41:07.711892",
     "status": "completed"
    },
    "tags": []
   },
   "outputs": [
    {
     "name": "stdout",
     "output_type": "stream",
     "text": [
      "25.8 ms ± 3.03 ms per loop (mean ± std. dev. of 7 runs, 10 loops each)\n"
     ]
    }
   ],
   "source": [
    "%%timeit -n 10\n",
    "module_matmul_dyn_modified.matmul_dyn_modified(m1c,m2c)\n",
    "torch.cuda.synchronize()"
   ]
  },
  {
   "cell_type": "markdown",
   "id": "63f0e7a7",
   "metadata": {
    "papermill": {
     "duration": 0.022588,
     "end_time": "2024-02-11T21:41:09.599478",
     "exception": false,
     "start_time": "2024-02-11T21:41:09.576890",
     "status": "completed"
    },
    "tags": []
   },
   "source": [
    "## Experiment Three Variants"
   ]
  },
  {
   "cell_type": "markdown",
   "id": "69d8eadc",
   "metadata": {
    "papermill": {
     "duration": 0.022383,
     "end_time": "2024-02-11T21:41:09.644589",
     "exception": false,
     "start_time": "2024-02-11T21:41:09.622206",
     "status": "completed"
    },
    "tags": []
   },
   "source": []
  },
  {
   "cell_type": "code",
   "execution_count": 58,
   "id": "c93a192d",
   "metadata": {
    "execution": {
     "iopub.execute_input": "2024-02-11T21:41:09.691625Z",
     "iopub.status.busy": "2024-02-11T21:41:09.691005Z",
     "iopub.status.idle": "2024-02-11T21:41:09.722956Z",
     "shell.execute_reply": "2024-02-11T21:41:09.722095Z"
    },
    "papermill": {
     "duration": 0.05769,
     "end_time": "2024-02-11T21:41:09.724975",
     "exception": false,
     "start_time": "2024-02-11T21:41:09.667285",
     "status": "completed"
    },
    "tags": []
   },
   "outputs": [],
   "source": [
    "m1 = torch.rand(5120, 256)\n",
    "m2 = torch.rand(256, 5120)\n"
   ]
  },
  {
   "cell_type": "code",
   "execution_count": 59,
   "id": "4ba8e30e",
   "metadata": {
    "execution": {
     "iopub.execute_input": "2024-02-11T21:41:09.771508Z",
     "iopub.status.busy": "2024-02-11T21:41:09.771198Z",
     "iopub.status.idle": "2024-02-11T21:41:09.784788Z",
     "shell.execute_reply": "2024-02-11T21:41:09.783960Z"
    },
    "papermill": {
     "duration": 0.039067,
     "end_time": "2024-02-11T21:41:09.786764",
     "exception": false,
     "start_time": "2024-02-11T21:41:09.747697",
     "status": "completed"
    },
    "tags": []
   },
   "outputs": [],
   "source": [
    "m1c,m2c = m1.clone().contiguous().cuda(),m2.clone().contiguous().cuda()  ## always make a copy for the input of matmul function"
   ]
  },
  {
   "cell_type": "markdown",
   "id": "2c8429e0",
   "metadata": {
    "papermill": {
     "duration": 0.022489,
     "end_time": "2024-02-11T21:41:09.832570",
     "exception": false,
     "start_time": "2024-02-11T21:41:09.810081",
     "status": "completed"
    },
    "tags": []
   },
   "source": [
    "### Dynamic shared memory"
   ]
  },
  {
   "cell_type": "markdown",
   "id": "f2797820",
   "metadata": {
    "papermill": {
     "duration": 0.022422,
     "end_time": "2024-02-11T21:41:09.877649",
     "exception": false,
     "start_time": "2024-02-11T21:41:09.855227",
     "status": "completed"
    },
    "tags": []
   },
   "source": []
  },
  {
   "cell_type": "code",
   "execution_count": 60,
   "id": "0876bafe",
   "metadata": {
    "execution": {
     "iopub.execute_input": "2024-02-11T21:41:09.924783Z",
     "iopub.status.busy": "2024-02-11T21:41:09.924079Z",
     "iopub.status.idle": "2024-02-11T21:41:11.645469Z",
     "shell.execute_reply": "2024-02-11T21:41:11.644661Z"
    },
    "papermill": {
     "duration": 1.747264,
     "end_time": "2024-02-11T21:41:11.647504",
     "exception": false,
     "start_time": "2024-02-11T21:41:09.900240",
     "status": "completed"
    },
    "tags": []
   },
   "outputs": [
    {
     "name": "stdout",
     "output_type": "stream",
     "text": [
      "24.5 ms ± 772 µs per loop (mean ± std. dev. of 7 runs, 10 loops each)\n"
     ]
    }
   ],
   "source": [
    "%%timeit -n 10\n",
    "module_matmul_dyn.matmul_dyn(m1c,m2c)\n",
    "torch.cuda.synchronize()"
   ]
  },
  {
   "cell_type": "markdown",
   "id": "4b5ce04a",
   "metadata": {
    "papermill": {
     "duration": 0.022874,
     "end_time": "2024-02-11T21:41:11.694033",
     "exception": false,
     "start_time": "2024-02-11T21:41:11.671159",
     "status": "completed"
    },
    "tags": []
   },
   "source": [
    "### Static shared memory"
   ]
  },
  {
   "cell_type": "code",
   "execution_count": 61,
   "id": "955ed7da",
   "metadata": {
    "execution": {
     "iopub.execute_input": "2024-02-11T21:41:11.741292Z",
     "iopub.status.busy": "2024-02-11T21:41:11.740988Z",
     "iopub.status.idle": "2024-02-11T21:41:11.751038Z",
     "shell.execute_reply": "2024-02-11T21:41:11.750164Z"
    },
    "papermill": {
     "duration": 0.037773,
     "end_time": "2024-02-11T21:41:11.754979",
     "exception": false,
     "start_time": "2024-02-11T21:41:11.717206",
     "status": "completed"
    },
    "tags": []
   },
   "outputs": [],
   "source": [
    "m1c,m2c = m1.clone().contiguous().cuda(),m2.clone().contiguous().cuda()"
   ]
  },
  {
   "cell_type": "code",
   "execution_count": 62,
   "id": "664c4f89",
   "metadata": {
    "execution": {
     "iopub.execute_input": "2024-02-11T21:41:11.801999Z",
     "iopub.status.busy": "2024-02-11T21:41:11.801713Z",
     "iopub.status.idle": "2024-02-11T21:41:13.148080Z",
     "shell.execute_reply": "2024-02-11T21:41:13.147204Z"
    },
    "papermill": {
     "duration": 1.372048,
     "end_time": "2024-02-11T21:41:13.150179",
     "exception": false,
     "start_time": "2024-02-11T21:41:11.778131",
     "status": "completed"
    },
    "tags": []
   },
   "outputs": [
    {
     "name": "stdout",
     "output_type": "stream",
     "text": [
      "19.1 ms ± 676 µs per loop (mean ± std. dev. of 7 runs, 10 loops each)\n"
     ]
    }
   ],
   "source": [
    "%%timeit -n 10\n",
    "matmul_static.matmul_static(m1c,m2c)\n",
    "torch.cuda.synchronize()"
   ]
  },
  {
   "cell_type": "markdown",
   "id": "94303109",
   "metadata": {
    "papermill": {
     "duration": 0.023593,
     "end_time": "2024-02-11T21:41:13.197772",
     "exception": false,
     "start_time": "2024-02-11T21:41:13.174179",
     "status": "completed"
    },
    "tags": []
   },
   "source": [
    "### Static shared memory with linear index [simple change from dynamic shared memory code]"
   ]
  },
  {
   "cell_type": "code",
   "execution_count": 63,
   "id": "f739d4a3",
   "metadata": {
    "execution": {
     "iopub.execute_input": "2024-02-11T21:41:13.245537Z",
     "iopub.status.busy": "2024-02-11T21:41:13.245190Z",
     "iopub.status.idle": "2024-02-11T21:41:13.261404Z",
     "shell.execute_reply": "2024-02-11T21:41:13.260528Z"
    },
    "papermill": {
     "duration": 0.042904,
     "end_time": "2024-02-11T21:41:13.263544",
     "exception": false,
     "start_time": "2024-02-11T21:41:13.220640",
     "status": "completed"
    },
    "tags": []
   },
   "outputs": [],
   "source": [
    "m1c,m2c = m1.clone().contiguous().cuda(),m2.clone().contiguous().cuda()"
   ]
  },
  {
   "cell_type": "code",
   "execution_count": 64,
   "id": "d836b2b3",
   "metadata": {
    "execution": {
     "iopub.execute_input": "2024-02-11T21:41:13.314289Z",
     "iopub.status.busy": "2024-02-11T21:41:13.313661Z",
     "iopub.status.idle": "2024-02-11T21:41:15.038749Z",
     "shell.execute_reply": "2024-02-11T21:41:15.037952Z"
    },
    "papermill": {
     "duration": 1.751672,
     "end_time": "2024-02-11T21:41:15.040805",
     "exception": false,
     "start_time": "2024-02-11T21:41:13.289133",
     "status": "completed"
    },
    "tags": []
   },
   "outputs": [
    {
     "name": "stdout",
     "output_type": "stream",
     "text": [
      "24.5 ms ± 742 µs per loop (mean ± std. dev. of 7 runs, 10 loops each)\n"
     ]
    }
   ],
   "source": [
    "%%timeit -n 10\n",
    "module_matmul_dyn_modified.matmul_dyn_modified(m1c,m2c)\n",
    "torch.cuda.synchronize()"
   ]
  },
  {
   "cell_type": "markdown",
   "id": "16d8554c",
   "metadata": {
    "papermill": {
     "duration": 0.022787,
     "end_time": "2024-02-11T21:41:15.087250",
     "exception": false,
     "start_time": "2024-02-11T21:41:15.064463",
     "status": "completed"
    },
    "tags": []
   },
   "source": []
  },
  {
   "cell_type": "markdown",
   "id": "83649442",
   "metadata": {
    "papermill": {
     "duration": 0.022646,
     "end_time": "2024-02-11T21:41:15.132897",
     "exception": false,
     "start_time": "2024-02-11T21:41:15.110251",
     "status": "completed"
    },
    "tags": []
   },
   "source": [
    "## Numba"
   ]
  },
  {
   "cell_type": "code",
   "execution_count": 65,
   "id": "fc03e3ab",
   "metadata": {
    "execution": {
     "iopub.execute_input": "2024-02-11T21:41:15.181090Z",
     "iopub.status.busy": "2024-02-11T21:41:15.180340Z",
     "iopub.status.idle": "2024-02-11T21:41:15.915827Z",
     "shell.execute_reply": "2024-02-11T21:41:15.915038Z"
    },
    "papermill": {
     "duration": 0.761694,
     "end_time": "2024-02-11T21:41:15.918033",
     "exception": false,
     "start_time": "2024-02-11T21:41:15.156339",
     "status": "completed"
    },
    "tags": []
   },
   "outputs": [],
   "source": [
    "from numba import cuda\n",
    "from numba.cuda import as_cuda_array as ca"
   ]
  },
  {
   "cell_type": "code",
   "execution_count": 66,
   "id": "6a5142cc",
   "metadata": {
    "execution": {
     "iopub.execute_input": "2024-02-11T21:41:15.965816Z",
     "iopub.status.busy": "2024-02-11T21:41:15.965542Z",
     "iopub.status.idle": "2024-02-11T21:41:15.977443Z",
     "shell.execute_reply": "2024-02-11T21:41:15.976598Z"
    },
    "papermill": {
     "duration": 0.037797,
     "end_time": "2024-02-11T21:41:15.979401",
     "exception": false,
     "start_time": "2024-02-11T21:41:15.941604",
     "status": "completed"
    },
    "tags": []
   },
   "outputs": [],
   "source": [
    "@cuda.jit\n",
    "def matmul_k_numba(m, n, out, tw):\n",
    "    cbi,cbd,tid = cuda.blockIdx,cuda.blockDim,cuda.threadIdx\n",
    "    tc,tr = tid.x,tid.y\n",
    "    r,c = cbi.y * cbd.y + tr, cbi.x * cbd.x + tc\n",
    "    h,k  = m.shape\n",
    "    k2,w = n.shape\n",
    "\n",
    "    shar = cuda.shared.array(0, dtype=np.float32)\n",
    "    ms,ns = shar[:tw*tw],shar[tw*tw:2*tw*tw]\n",
    "\n",
    "    p = np.float32(0.0)\n",
    "    for ph in range(math.ceil(k/tw)):\n",
    "        idx = ph*tw\n",
    "        ms[tr*tw+tc] = m[r, tc+idx] if r<h and idx+tc<k else 0.\n",
    "        ns[tr*tw+tc] = n[tr+idx, c] if c<w and idx+tr<k else 0.\n",
    "        cuda.syncthreads()\n",
    "        for i in range(tw): p += ms[tr*tw+i] * ns[i*tw+tc]\n",
    "        cuda.syncthreads()\n",
    "    if r < h and c < w: out[r, c] = p"
   ]
  },
  {
   "cell_type": "code",
   "execution_count": 67,
   "id": "a0246e0f",
   "metadata": {
    "execution": {
     "iopub.execute_input": "2024-02-11T21:41:16.028819Z",
     "iopub.status.busy": "2024-02-11T21:41:16.028541Z",
     "iopub.status.idle": "2024-02-11T21:41:16.036803Z",
     "shell.execute_reply": "2024-02-11T21:41:16.036083Z"
    },
    "papermill": {
     "duration": 0.034262,
     "end_time": "2024-02-11T21:41:16.038636",
     "exception": false,
     "start_time": "2024-02-11T21:41:16.004374",
     "status": "completed"
    },
    "tags": []
   },
   "outputs": [],
   "source": [
    "def matmul_2d_numba(m, n, tw=16):\n",
    "    h,k  = m.shape\n",
    "    k2,w = n.shape\n",
    "    assert k==k2, \"Size mismatch!\"\n",
    "    out = torch.zeros(h, w, dtype=m.dtype, device=m.device)\n",
    "    dyn_shared_mem_size = 2 * tw * tw * 4\n",
    "    tpb = tw,tw\n",
    "    blocks = cdiv(w,tpb[0]), cdiv(h,tpb[1])\n",
    "    matmul_k_numba[blocks, tpb, 0, dyn_shared_mem_size](ca(m), ca(n), ca(out), tw) \n",
    "    return out"
   ]
  },
  {
   "cell_type": "code",
   "execution_count": 68,
   "id": "cf35369d",
   "metadata": {
    "execution": {
     "iopub.execute_input": "2024-02-11T21:41:16.085919Z",
     "iopub.status.busy": "2024-02-11T21:41:16.085631Z",
     "iopub.status.idle": "2024-02-11T21:41:17.348187Z",
     "shell.execute_reply": "2024-02-11T21:41:17.347388Z"
    },
    "papermill": {
     "duration": 1.288296,
     "end_time": "2024-02-11T21:41:17.350211",
     "exception": false,
     "start_time": "2024-02-11T21:41:16.061915",
     "status": "completed"
    },
    "tags": []
   },
   "outputs": [
    {
     "data": {
      "text/plain": [
       "tensor(True, device='cuda:0')"
      ]
     },
     "execution_count": 68,
     "metadata": {},
     "output_type": "execute_result"
    }
   ],
   "source": [
    "torch.isclose(matmul_2d_numba(m1c,m2c), m1c@m2c).all()"
   ]
  },
  {
   "cell_type": "code",
   "execution_count": 69,
   "id": "c84754ec",
   "metadata": {
    "execution": {
     "iopub.execute_input": "2024-02-11T21:41:17.400951Z",
     "iopub.status.busy": "2024-02-11T21:41:17.400343Z",
     "iopub.status.idle": "2024-02-11T21:41:21.394708Z",
     "shell.execute_reply": "2024-02-11T21:41:21.393752Z"
    },
    "papermill": {
     "duration": 4.021111,
     "end_time": "2024-02-11T21:41:21.396693",
     "exception": false,
     "start_time": "2024-02-11T21:41:17.375582",
     "status": "completed"
    },
    "tags": []
   },
   "outputs": [
    {
     "name": "stdout",
     "output_type": "stream",
     "text": [
      "56.9 ms ± 1.79 ms per loop (mean ± std. dev. of 7 runs, 10 loops each)\n"
     ]
    }
   ],
   "source": [
    "%%timeit -n 10\n",
    "matmul_2d_numba(m1c,m2c)\n",
    "torch.cuda.synchronize()"
   ]
  },
  {
   "cell_type": "code",
   "execution_count": null,
   "id": "79866788",
   "metadata": {
    "papermill": {
     "duration": 0.025316,
     "end_time": "2024-02-11T21:41:21.447192",
     "exception": false,
     "start_time": "2024-02-11T21:41:21.421876",
     "status": "completed"
    },
    "tags": []
   },
   "outputs": [],
   "source": []
  }
 ],
 "metadata": {
  "kaggle": {
   "accelerator": "nvidiaTeslaT4",
   "dataSources": [],
   "dockerImageVersionId": 30646,
   "isGpuEnabled": true,
   "isInternetEnabled": true,
   "language": "python",
   "sourceType": "notebook"
  },
  "kernelspec": {
   "display_name": "Python 3",
   "language": "python",
   "name": "python3"
  },
  "language_info": {
   "codemirror_mode": {
    "name": "ipython",
    "version": 3
   },
   "file_extension": ".py",
   "mimetype": "text/x-python",
   "name": "python",
   "nbconvert_exporter": "python",
   "pygments_lexer": "ipython3",
   "version": "3.10.13"
  },
  "papermill": {
   "default_parameters": {},
   "duration": 322.400375,
   "end_time": "2024-02-11T21:41:22.893671",
   "environment_variables": {},
   "exception": null,
   "input_path": "__notebook__.ipynb",
   "output_path": "__notebook__.ipynb",
   "parameters": {},
   "start_time": "2024-02-11T21:36:00.493296",
   "version": "2.5.0"
  }
 },
 "nbformat": 4,
 "nbformat_minor": 5
}
